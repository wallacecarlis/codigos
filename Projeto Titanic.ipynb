{
 "cells": [
  {
   "cell_type": "markdown",
   "metadata": {},
   "source": [
    "# Wallace Carlis\n",
    "\n",
    "## Análise de dados do Titanic"
   ]
  },
  {
   "cell_type": "markdown",
   "metadata": {},
   "source": [
    "### Para esta análise foi utilizada a base de dados \"titanic_data.csv\".\n",
    "### As perguntas a serem realizadas é se houve correlação entre o sexo, local de embarque e a sobrevivência, ou seja, se em detrimento da localidade e do gênero houve seleção de salvos.\n",
    "### Para esta investigação optou-se por realizar buscas identificando a quantidade de sobreviventes por gênero e local de embarque.\n",
    "### A título de limpeza houve a exclusão das colunas Age, SibSp, Parch, Cabin, vistas como irrelevantes no processo, bem como inserção pela moda para duas pessoas sem informação sobre o local de embarque."
   ]
  },
  {
   "cell_type": "code",
   "execution_count": null,
   "metadata": {},
   "outputs": [],
   "source": [
    "# Importação das bibliotecas a serem utilizadas\n",
    "\n",
    "import pandas as pd\n",
    "import matplotlib.pyplot as plt\n",
    "%matplotlib inline\n",
    "import numpy as np\n",
    "import seaborn as sns\n",
    "sns.set_style('darkgrid')"
   ]
  },
  {
   "cell_type": "code",
   "execution_count": null,
   "metadata": {},
   "outputs": [],
   "source": [
    "# Leitura do arquivo e atribuição ao DF\n",
    "\n",
    "df = pd.read_csv('titanic_data.csv')"
   ]
  },
  {
   "cell_type": "code",
   "execution_count": null,
   "metadata": {},
   "outputs": [],
   "source": [
    "# Quantidade de linhas incluindo os títulos das colunas\n",
    "\n",
    "df.shape[0]"
   ]
  },
  {
   "cell_type": "code",
   "execution_count": null,
   "metadata": {},
   "outputs": [],
   "source": [
    "# Quantidade de colunas antes do processo de limpeza\n",
    "\n",
    "df.shape[1]"
   ]
  },
  {
   "cell_type": "code",
   "execution_count": null,
   "metadata": {},
   "outputs": [],
   "source": [
    "# Exibição dos primeiros 5 registros\n",
    "\n",
    "df.head()"
   ]
  },
  {
   "cell_type": "code",
   "execution_count": null,
   "metadata": {},
   "outputs": [],
   "source": [
    "# Exibição dos últimos 5 registros\n",
    "\n",
    "df.tail()"
   ]
  },
  {
   "cell_type": "code",
   "execution_count": null,
   "metadata": {},
   "outputs": [],
   "source": [
    "# Exclusão das colunas Age, SibSp, Parch, Cabin\n",
    "\n",
    "df = df.drop(['Age', 'SibSp', 'Parch', 'Cabin'], axis=1)"
   ]
  },
  {
   "cell_type": "code",
   "execution_count": null,
   "metadata": {},
   "outputs": [],
   "source": [
    "# Confirmação da exclusão das colunas Age, SibSp, Parch, Cabin\n",
    "\n",
    "df.tail()"
   ]
  },
  {
   "cell_type": "code",
   "execution_count": null,
   "metadata": {},
   "outputs": [],
   "source": [
    "# Verificação da existência e quantidade de linhas duplicadas\n",
    "\n",
    "sum(df.duplicated())"
   ]
  },
  {
   "cell_type": "code",
   "execution_count": null,
   "metadata": {},
   "outputs": [],
   "source": [
    "# Verificação da existência e quantidade de valores nulos ou faltantes por coluna\n",
    "\n",
    "df.isnull().sum()"
   ]
  },
  {
   "cell_type": "code",
   "execution_count": null,
   "metadata": {},
   "outputs": [],
   "source": [
    "# Localização dos valores faltantes para tratamento\n",
    "\n",
    "df.loc[pd.isnull(df['Embarked'])]"
   ]
  },
  {
   "cell_type": "code",
   "execution_count": null,
   "metadata": {},
   "outputs": [],
   "source": [
    "# Preenchimento dos valores faltantes pelos valores que mais se encontram\n",
    "\n",
    "df['Embarked'].fillna(df['Embarked'].mode()[0], inplace=True)"
   ]
  },
  {
   "cell_type": "code",
   "execution_count": null,
   "metadata": {},
   "outputs": [],
   "source": [
    "# Confirmação da não existência de valores faltantes\n",
    "\n",
    "df.loc[pd.isnull(df['Embarked'])]"
   ]
  },
  {
   "cell_type": "code",
   "execution_count": null,
   "metadata": {},
   "outputs": [],
   "source": [
    "# Confirmação por colunas da não existência de valores faltantes\n",
    "\n",
    "df.isnull().sum()"
   ]
  },
  {
   "cell_type": "code",
   "execution_count": null,
   "metadata": {},
   "outputs": [],
   "source": [
    "# Verificação da quantidade de registros por coluna\n",
    "\n",
    "df.count()"
   ]
  },
  {
   "cell_type": "markdown",
   "metadata": {},
   "source": [
    "## Análise de 4 variáveis independentes:\n",
    "### não_sobreviventes e sobreviventes;\n",
    "### quantidade de passageiros por classe;\n",
    "### quantidade de passageiros por gênero;\n",
    "### quantidade de passageiros por local de embarque."
   ]
  },
  {
   "cell_type": "markdown",
   "metadata": {},
   "source": [
    "### Análise da 1ª variável independente: quantidade de passageiros que não_sobreviveram e que sobreviveram."
   ]
  },
  {
   "cell_type": "code",
   "execution_count": null,
   "metadata": {},
   "outputs": [],
   "source": [
    "# Quantidade de pessoas que não sobreviveram (61,6%)\n",
    "\n",
    "df[\"Survived\"].value_counts()[0]"
   ]
  },
  {
   "cell_type": "code",
   "execution_count": null,
   "metadata": {},
   "outputs": [],
   "source": [
    "# Quantidade de pessoas que sobreviveram (38,4%)\n",
    "\n",
    "df[\"Survived\"].value_counts()[1]"
   ]
  },
  {
   "cell_type": "code",
   "execution_count": null,
   "metadata": {},
   "outputs": [],
   "source": [
    "# Exibição em gráfico de pizza das porcentagens de sobreviventes e não sobreviventes\n",
    "\n",
    "df[\"Survived\"].value_counts().plot(kind='pie', figsize=(6,6),\n",
    "colors=('tab:orange', 'tab:blue'), title=\"Porcentagem de sobreviventes e não sobreviventes\", \n",
    "fontsize=15, autopct='%1.1f%%', labels=(\"Não sobreviventes\", \"Sobreviventes\")).set_ylabel('');"
   ]
  },
  {
   "cell_type": "markdown",
   "metadata": {},
   "source": [
    "### No gráfico acima obtém-se a visualização de que menos de 40% das pessoas catalogadas sobreviveram."
   ]
  },
  {
   "cell_type": "code",
   "execution_count": null,
   "metadata": {},
   "outputs": [],
   "source": [
    "# Atribuição de novos DF's aos não_sobreviventes e sobreviventes\n",
    "\n",
    "df_nao_sobreviventes = df[\"Survived\"].value_counts()[0]\n",
    "df_sobreviventes = df[\"Survived\"].value_counts()[1]"
   ]
  },
  {
   "cell_type": "code",
   "execution_count": null,
   "metadata": {},
   "outputs": [],
   "source": [
    "# Verificação da atribuição aos sobreviventes\n",
    "\n",
    "df_sobreviventes"
   ]
  },
  {
   "cell_type": "code",
   "execution_count": null,
   "metadata": {},
   "outputs": [],
   "source": [
    "# Verificação da atribuição aos não_sobreviventes\n",
    "\n",
    "df_nao_sobreviventes"
   ]
  },
  {
   "cell_type": "markdown",
   "metadata": {},
   "source": [
    "### Análise da 2ª variável independente: quantidade de passageiros por classe (1ª, 2ª, 3ª)"
   ]
  },
  {
   "cell_type": "code",
   "execution_count": null,
   "metadata": {},
   "outputs": [],
   "source": [
    "# Quantidade de passageiros por classe (1, 2, 3) sendo consideradas 1ª, 2ª e 3ª classe\n",
    "\n",
    "df[\"Pclass\"].value_counts()"
   ]
  },
  {
   "cell_type": "code",
   "execution_count": null,
   "metadata": {},
   "outputs": [],
   "source": [
    "# Exibição do gráfico de barras das quantidades de passageiros por classe (1, 2, 3)\n",
    "\n",
    "df[\"Pclass\"].value_counts().plot(kind='bar', title=\"Quantidade de Passageiros por Classe\"), plt.xlabel(\"Classes\");"
   ]
  },
  {
   "cell_type": "markdown",
   "metadata": {},
   "source": [
    "### Neste gráfico obtém-se a visualização de que a 3ª classe recebeu maior quantidade de passageiros do que as demais."
   ]
  },
  {
   "cell_type": "code",
   "execution_count": null,
   "metadata": {},
   "outputs": [],
   "source": [
    "# Atribuições das classes com query\n",
    "\n",
    "df_classe1 = df.query('Pclass == \"1\"')\n",
    "df_classe2 = df.query('Pclass == \"2\"')\n",
    "df_classe3 = df.query('Pclass == \"3\"')"
   ]
  },
  {
   "cell_type": "code",
   "execution_count": null,
   "metadata": {},
   "outputs": [],
   "source": [
    "# Verificação da atribuição da classe 1\n",
    "\n",
    "df_classe1.head()"
   ]
  },
  {
   "cell_type": "code",
   "execution_count": null,
   "metadata": {},
   "outputs": [],
   "source": [
    "# Verificação da atribuição da classe 2\n",
    "\n",
    "df_classe2.head()"
   ]
  },
  {
   "cell_type": "code",
   "execution_count": null,
   "metadata": {},
   "outputs": [],
   "source": [
    "# Verificação da atribuição da classe 3\n",
    "\n",
    "df_classe3.head()"
   ]
  },
  {
   "cell_type": "markdown",
   "metadata": {},
   "source": [
    "### Análise da 3ª variável independente: quantidade de passageiros por gênero"
   ]
  },
  {
   "cell_type": "code",
   "execution_count": null,
   "metadata": {},
   "outputs": [],
   "source": [
    "# Quantidade de passageiros por gênero\n",
    "\n",
    "df[\"Sex\"].value_counts()"
   ]
  },
  {
   "cell_type": "code",
   "execution_count": null,
   "metadata": {},
   "outputs": [],
   "source": [
    "# Exibição de gráfico de pizza de passageiros por gênero\n",
    "\n",
    "df[\"Sex\"].value_counts().plot(kind='pie', figsize=(6,6),\n",
    "colors=('tab:orange', 'tab:blue'), title=\"Quantidade de Passageiros por gênero\", \n",
    "fontsize=15, autopct='%1.1f%%', labels=(\"Homens\", \"Mulheres\")).set_ylabel('');"
   ]
  },
  {
   "cell_type": "markdown",
   "metadata": {},
   "source": [
    "### Neste gráfico observa-se que a quantidade de homens se aproxima do dobro da quantidade de mulheres que embarcaram."
   ]
  },
  {
   "cell_type": "code",
   "execution_count": null,
   "metadata": {},
   "outputs": [],
   "source": [
    "# Atribuições de quantidade de passageiros por gênero\n",
    "\n",
    "df_homem = df.query('Sex == \"male\"')\n",
    "df_mulher = df.query('Sex == \"female\"')"
   ]
  },
  {
   "cell_type": "code",
   "execution_count": null,
   "metadata": {},
   "outputs": [],
   "source": [
    "# Verificação da atribuição de passageiros por gênero masculino\n",
    "\n",
    "df_homem.head()"
   ]
  },
  {
   "cell_type": "code",
   "execution_count": null,
   "metadata": {},
   "outputs": [],
   "source": [
    "# Verificação da atribuição de passageiros por gênero feminino\n",
    "\n",
    "df_mulher.head()"
   ]
  },
  {
   "cell_type": "markdown",
   "metadata": {},
   "source": [
    "### Análise da 4ª variável independente: quantidade de passageiros por local de embarque"
   ]
  },
  {
   "cell_type": "code",
   "execution_count": null,
   "metadata": {},
   "outputs": [],
   "source": [
    "# Quantidade de passageiros por local de embarque\n",
    "\n",
    "df[\"Embarked\"].value_counts()"
   ]
  },
  {
   "cell_type": "code",
   "execution_count": null,
   "metadata": {},
   "outputs": [],
   "source": [
    "# Exibição do gráfico de pizza por local de embarque\n",
    "# Southampton (Inglaterra), Cherbourg (França), Queenstown (Irlanda)\n",
    "\n",
    "locais = {'S': 'Southampton - Inglaterra','C': 'Cherbourg - França', 'Q': 'Queenstown - Irlanda'}\n",
    "df.Embarked.map(locais).value_counts().plot(kind='pie', autopct='%1.1f%%', title=\"Local de Embarque\", figsize=(5,5), fontsize=15)\n",
    "plt.axis('equal'), plt.ylabel('');"
   ]
  },
  {
   "cell_type": "markdown",
   "metadata": {},
   "source": [
    "### No gráfico acima visualiza-se que a grande maioria das pessoas embarcaram na Inglaterra."
   ]
  },
  {
   "cell_type": "code",
   "execution_count": null,
   "metadata": {},
   "outputs": [],
   "source": [
    "# Atribuição dos locais de embarque (\"S\" para Inglaterra, \"C\" para França, \"Q\" para Irlanda)\n",
    "\n",
    "df_Inglaterra = df.query('Embarked == \"S\"')\n",
    "df_Franca = df.query('Embarked == \"C\"')\n",
    "df_Irlanda = df.query('Embarked == \"Q\"')"
   ]
  },
  {
   "cell_type": "code",
   "execution_count": null,
   "metadata": {},
   "outputs": [],
   "source": [
    "# Verificação da atribuição do local de embarque para Inglaterra\n",
    "\n",
    "df_Inglaterra.head()"
   ]
  },
  {
   "cell_type": "code",
   "execution_count": null,
   "metadata": {},
   "outputs": [],
   "source": [
    "# Verificação da atribuição do local de embarque para França\n",
    "\n",
    "df_Franca.head()"
   ]
  },
  {
   "cell_type": "code",
   "execution_count": null,
   "metadata": {},
   "outputs": [],
   "source": [
    "# Verificação da atribuição do local de embarque para Irlanda\n",
    "\n",
    "df_Irlanda.head()"
   ]
  },
  {
   "cell_type": "markdown",
   "metadata": {},
   "source": [
    "## Análise da 1ª variável dependente - estatística sobre:\n",
    "### vivos, gênero, classe e local de embarque."
   ]
  },
  {
   "cell_type": "markdown",
   "metadata": {},
   "source": [
    "## Estatísticas"
   ]
  },
  {
   "cell_type": "markdown",
   "metadata": {},
   "source": [
    "### Quantidade de mulheres vivas pelas classes"
   ]
  },
  {
   "cell_type": "code",
   "execution_count": null,
   "metadata": {},
   "outputs": [],
   "source": [
    "df.query(\"Sex == 'female' and Survived == 1\").groupby('Pclass').size()"
   ]
  },
  {
   "cell_type": "code",
   "execution_count": null,
   "metadata": {},
   "outputs": [],
   "source": [
    "# Exibição de gráfico de pizza de mulheres sobreviventes\n",
    "\n",
    "df_mulher[\"Survived\"].value_counts().plot(kind='pie', figsize=(6,6),\n",
    "colors=('tab:orange', 'tab:blue'), title=\"Porcentagem total de mulheres sobreviventes\", \n",
    "fontsize=15, autopct='%1.1f%%', labels=(\"Sobreviventes\", \"Não sobreviventes\")).set_ylabel('');"
   ]
  },
  {
   "cell_type": "markdown",
   "metadata": {},
   "source": [
    "### Neste gráfico percebe-se que a maior parte das mulheres que embarcaram sobreviveram."
   ]
  },
  {
   "cell_type": "markdown",
   "metadata": {},
   "source": [
    "### Quantidade de homens vivos pelas classes"
   ]
  },
  {
   "cell_type": "code",
   "execution_count": null,
   "metadata": {},
   "outputs": [],
   "source": [
    "# Quantidade de homens sobreviventes da 1ª classe\n",
    "\n",
    "df.query(\"Sex == 'male' and Survived == 1\").groupby('Pclass').size()"
   ]
  },
  {
   "cell_type": "code",
   "execution_count": null,
   "metadata": {},
   "outputs": [],
   "source": [
    "# Exibição de gráfico de pizza de homens sobreviventes\n",
    "\n",
    "df_homem[\"Survived\"].value_counts().plot(kind='pie', figsize=(6,6),\n",
    "colors=('tab:blue', 'tab:orange'), title=\"Porcentagem total de homens sobreviventes\", \n",
    "fontsize=15, autopct='%1.1f%%', labels=(\"Não Sobreviventes\", \"Sobreviventes\")).set_ylabel('');"
   ]
  },
  {
   "cell_type": "markdown",
   "metadata": {},
   "source": [
    "### Neste gráfico obtém-se a visualização de que a maior parte dos homens não sobreviveram."
   ]
  },
  {
   "cell_type": "markdown",
   "metadata": {},
   "source": [
    "### Quantidade de Sobreviventes por Classes"
   ]
  },
  {
   "cell_type": "code",
   "execution_count": null,
   "metadata": {},
   "outputs": [],
   "source": [
    "# Exibição de quantidade de Sobreviventes por Classe\n",
    "\n",
    "df.groupby([\"Pclass\", \"Survived\"]).size().unstack().plot.bar(title=\"Sobreviventes por Classe\", fontsize=10), plt.xlabel(\"Classes\");"
   ]
  },
  {
   "cell_type": "markdown",
   "metadata": {},
   "source": [
    "### No gráfico acima percebe-se que a quantidade de sobreviventes da 1ª classe é muito superior às demais, inclusive de forma proporcional."
   ]
  },
  {
   "cell_type": "markdown",
   "metadata": {},
   "source": [
    "## Quantidade de mulheres sobreviventes por classe e local de embarque"
   ]
  },
  {
   "cell_type": "markdown",
   "metadata": {},
   "source": [
    "### Inglaterra"
   ]
  },
  {
   "cell_type": "code",
   "execution_count": null,
   "metadata": {},
   "outputs": [],
   "source": [
    "df.query(\"Sex == 'female' and Survived == 1 and Embarked == 'S'\").groupby('Pclass').size()"
   ]
  },
  {
   "cell_type": "markdown",
   "metadata": {},
   "source": [
    "### França"
   ]
  },
  {
   "cell_type": "code",
   "execution_count": null,
   "metadata": {},
   "outputs": [],
   "source": [
    "df.query(\"Sex == 'female' and Survived == 1 and Embarked == 'C'\").groupby('Pclass').size()"
   ]
  },
  {
   "cell_type": "markdown",
   "metadata": {},
   "source": [
    "### Irlanda"
   ]
  },
  {
   "cell_type": "code",
   "execution_count": null,
   "metadata": {},
   "outputs": [],
   "source": [
    "df.query(\"Sex == 'female' and Survived == 1 and Embarked == 'Q'\").groupby('Pclass').size()"
   ]
  },
  {
   "cell_type": "markdown",
   "metadata": {},
   "source": [
    "## Quantidade de homens sobreviventes por classe e local de embarque"
   ]
  },
  {
   "cell_type": "markdown",
   "metadata": {},
   "source": [
    "### Inglaterra"
   ]
  },
  {
   "cell_type": "code",
   "execution_count": null,
   "metadata": {},
   "outputs": [],
   "source": [
    "df.query(\"Sex == 'male' and Survived == 1 and Embarked == 'S'\").groupby('Pclass').size()"
   ]
  },
  {
   "cell_type": "markdown",
   "metadata": {},
   "source": [
    "### França"
   ]
  },
  {
   "cell_type": "code",
   "execution_count": null,
   "metadata": {},
   "outputs": [],
   "source": [
    "df.query(\"Sex == 'male' and Survived == 1 and Embarked == 'C'\").groupby('Pclass').size()"
   ]
  },
  {
   "cell_type": "markdown",
   "metadata": {},
   "source": [
    "### Irlanda"
   ]
  },
  {
   "cell_type": "code",
   "execution_count": null,
   "metadata": {},
   "outputs": [],
   "source": [
    "df.query(\"Sex == 'male' and Survived == 1 and Embarked == 'Q'\").groupby('Pclass').size()"
   ]
  },
  {
   "cell_type": "code",
   "execution_count": null,
   "metadata": {},
   "outputs": [],
   "source": [
    "df.groupby([\"Embarked\", \"Survived\"]).size().unstack().plot.bar(title=\"Não Sobreviventes por Local de Embarque\", fontsize=10), plt.xlabel(\"Portos\");"
   ]
  },
  {
   "cell_type": "markdown",
   "metadata": {},
   "source": [
    "### Neste gráfico visualiza-se a quantidade de não sobreviventes por portos: C - Cherbourg (França), Q - Queenstown (Irlanda) e S - Southampton (Inglaterra)."
   ]
  },
  {
   "cell_type": "markdown",
   "metadata": {},
   "source": [
    "## Resumo das Estatísticas\n",
    "\n",
    "### Do total de 342 sobreviventes, 233 foram mulheres e 109 foram homens.\n",
    "\n",
    "### Das 233 mulheres sobreviventes, 91 embarcaram na 1ª classe, 70 na 2ª classe e 72 na 3ª. Embarcaram na Inglaterra 142 mulheres, 64 na França e 27 na Irlanda.\n",
    "\n",
    "### Dos 109 homens sobreviventes, 45 embarcaram na 1ª classe, 17 na 2ª classe e 47 na 3ª. Embarcaram na Inglaterra 77 homens, 29 na França e 3 na Irlanda.\n",
    "\n",
    "### Cerca de 74% das mulheres e 19% dos homens se salvaram.\n",
    "\n",
    "### 61% das mulheres que sobreviveram embarcaram na Inglaterra. 27% das sobreviventes na França e 12% na Irlanda.\n",
    "\n",
    "### 70% dos homens sobreviventes embarcaram na Inglaterra. 27% dos sobreviventes na França e 3% na Irlanda.\n",
    "\n",
    "### Pela quantidade total, é significativo o número de pessoas que se salvaram do naufrágio embarcando na Inglaterra, bem como a quantidade de mulheres da 1ª classe que conseguiram se salvar. Vale mencionar a quantidade de homens que embarcaram na 3ª classe e se salvaram, bem como os que embarcaram no porto francês onde os que se salvaram foram em número superior aos não sobreviventes. Por outro lado, a mínima quantidade de pessoas salvas que embarcaram na Irlanda, ainda que proporcionalmente próxima aos sobreviventes da Inglaterra.\n",
    "\n",
    "### É prudente ressaltar que das mulheres salvas duas delas não tinham informação de local de embarque, o que foi inserido pelo tratamento aplicado aos dados como sendo o valor mais representativo, no caso, Southampton na Inglaterra, ou seja, mais duas pessoas salvas tiveram embarque inglês. Esse é nitidamente um problema ocorrido devido ao fato de se ter valores faltantes. \n",
    "\n",
    "### Antes da utilização da análise estatística não se consegue perceber tão claramente como o local de embarque teve forte influência na quantidade de salvos. Evidentemente, caso houvesse dados dos demais passageiros poderiam se obter mais parâmetros, como por exemplo famílias salvas por locais de embarque ou correlação com valor de passagem paga com a localidade da cabine no navio."
   ]
  },
  {
   "cell_type": "markdown",
   "metadata": {},
   "source": [
    "## Referências\n",
    "\n",
    "### https://medium.com/marciojesus/investigando-o-naufr%C3%A1gio-do-titanic-b478c7750d31\n",
    "\n",
    "### http://tomreads.com/2018/02/23/project-notes-udacity/"
   ]
  },
  {
   "cell_type": "code",
   "execution_count": null,
   "metadata": {},
   "outputs": [],
   "source": []
  }
 ],
 "metadata": {
  "kernelspec": {
   "display_name": "Python 3",
   "language": "python",
   "name": "python3"
  },
  "language_info": {
   "codemirror_mode": {
    "name": "ipython",
    "version": 3
   },
   "file_extension": ".py",
   "mimetype": "text/x-python",
   "name": "python",
   "nbconvert_exporter": "python",
   "pygments_lexer": "ipython3",
   "version": "3.6.9"
  }
 },
 "nbformat": 4,
 "nbformat_minor": 2
}
